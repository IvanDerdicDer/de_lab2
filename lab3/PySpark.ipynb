{
 "cells": [
  {
   "cell_type": "markdown",
   "id": "46f2a314",
   "metadata": {},
   "source": [
    "# SparkSession\n",
    "\n",
    "U uvodnom tekstu smo ukratko spomenuli Spark ulaznu točku zvanu SparkContext koja predstavlja konekciju sa Spark klasterom - SparkSession je nadskup toga. Okružuje SparkContext i pruža mogućnost interakcije sa Spark SQL API-jem koji sadrži DF koji ćemo koristiti u većini naših programa. \n",
    "\n",
    "Prije pokretanja PySpark koda potrebno je kreirati SparkSession instancu. Dok je pokrenuta možete dohvatiti pregled vašeg Spark klastera i svih operacija na http://localhost:4040.\n",
    "\n",
    "SparkSession objektu ćete dodijeliti određene parametre kako biste postavili i konfigurirali Spark aplikaciju - neki od parametara uključuju naziv aplikacije, URL i postavke alokacije memorije.Tako naša aplikacija postavlja sljedeće parametre:\n",
    "* `builder` - objekt za kreiranje i konfiguraciju SparkSessiona\n",
    "* `master(\"local[*]\")` - lokalno izvršavanje aplikacije gdje * označava izrvšavanje aplikacije na svim dostupnim jezgrama - ovdje možete upisati i broj jezgri\n",
    "* `appName(\"SparkVjezba\")` - ime aplikacije\n",
    "* `getOrCreate()` - kreira novi SparkSession ako ne postoji ili vraća postojeći ako se već izvodi te time osigurava da je samo jedan SparkSession objekt kreiran za aplikaciju što je važno za efikasnu upotrebu resursa. "
   ]
  },
  {
   "cell_type": "code",
   "execution_count": 2,
   "id": "e9a4fd87",
   "metadata": {
    "ExecuteTime": {
     "start_time": "2023-04-30T18:41:36.151227Z",
     "end_time": "2023-04-30T18:41:42.295309Z"
    }
   },
   "outputs": [],
   "source": [
    "import findspark\n",
    "from pyspark.sql import SparkSession\n",
    "\n",
    "scala_version = '2.12'\n",
    "spark_version = '3.4.0'\n",
    "packages = [\n",
    "    f'org.apache.spark:spark-sql-kafka-0-10_{scala_version}:{spark_version}',\n",
    "    'org.apache.kafka:kafka-clients:3.2.1'\n",
    "]\n",
    "\n",
    "findspark.add_packages(','.join(packages))\n",
    "findspark.init()\n",
    "\n",
    "spark = (\n",
    "    SparkSession.builder\n",
    "    .master(\"local[*]\")\n",
    "    .appName(\"SparkVjezba\")\n",
    "    .getOrCreate()\n",
    ")"
   ]
  },
  {
   "cell_type": "markdown",
   "id": "35e0e7a1",
   "metadata": {},
   "source": [
    "# DataFrame\n",
    "\n",
    "Ako ste korisitli Pandas biblioteku u Pythonu vjerojatno ste upoznati s konceptom DataFramea. Ipak, važno je naglasiti da DataFrame u Pandasu i Sparku nisu isti; neke od razlika su:\n",
    "| Aspekt | Pandas DataFrame | Spark DataFrame |\n",
    "|:--------:|:-----------------:|:----------------:|\n",
    "| Izvršavanje | Manji setovi podataka i izvršavanje na jednom stroju | Veliki setovi podataka i izvršavanje na više storjeva |\n",
    "| Evaluacija | Agilna | Lijena |\n",
    "| Brzina | Brži za manje skupove podataka| Brži za veće skupove podataka |\n",
    "| Izvori podataka | Zahtijeva dodatne bibioloteke za čitanje i pisanje raznih izvora podataka | Ugrađena potpora za čitanje i pisanje raznih izvora podataka| |\n",
    "\n",
    "<br/>\n",
    "Dataframe u Sparku možete shvatiti kao tablicu s redovima i stupcima koja sadrži veliku količinu podataka. Obrada podataka u Dataframeu se vrši korištenjem transformacija i akcija, a rezultat se može spremiti u novi Dataframe. Dataframe je također vrlo fleksibilan i može se koristiti za razne obrade podataka kao što su spajanje, filtriranje, sortiranje, agregacija i grupiranje podataka. \n",
    "\n",
    "## Kreiranje i korištenje DataFramea "
   ]
  },
  {
   "cell_type": "code",
   "execution_count": null,
   "id": "c4a8d7ad",
   "metadata": {
    "ExecuteTime": {
     "start_time": "2023-04-30T14:18:17.608305Z",
     "end_time": "2023-04-30T14:18:28.709388Z"
    }
   },
   "outputs": [],
   "source": [
    "# kreacija DataFramea\n",
    "data = [(1,2), (3,4)]\n",
    "schema = \"neparni int, parni int\"\n",
    "df_list = spark.createDataFrame(data, schema)\n",
    "\n",
    "# prikaz DataFramea\n",
    "df_list.show()\n",
    "\n",
    "# prikaz scheme DataFramea\n",
    "df_list.printSchema()"
   ]
  },
  {
   "cell_type": "code",
   "execution_count": null,
   "id": "60a0b711",
   "metadata": {
    "ExecuteTime": {
     "start_time": "2023-04-30T14:18:28.710389Z",
     "end_time": "2023-04-30T14:18:39.197658Z"
    }
   },
   "outputs": [],
   "source": [
    "# selekcija stupaca\n",
    "df_list.select(['neparni']).show()"
   ]
  },
  {
   "cell_type": "code",
   "execution_count": null,
   "id": "226cddd8",
   "metadata": {
    "ExecuteTime": {
     "start_time": "2023-04-30T14:18:39.199657Z",
     "end_time": "2023-04-30T14:18:49.400531Z"
    }
   },
   "outputs": [],
   "source": [
    "# dodavanje stupaca\n",
    "from pyspark.sql.functions import col\n",
    "\n",
    "df_list.withColumn(\"zbroj\", col(\"neparni\") + col(\"parni\")).show()"
   ]
  },
  {
   "cell_type": "markdown",
   "id": "02d9daef",
   "metadata": {},
   "source": [
    "Prilikom stvaranja DF-a ukoliko nema zaglavlja (ili se ona ne čitaju) zadana vrijednost ukoliko se DF stvara iz CSV datoteke je _cn - gdje n predstavlja broj stupca počevši od nule, dok ukoliko se stvara iz liste zadana vrijednost je _n - gdje je n ekvivalent prethodnom n-u."
   ]
  },
  {
   "cell_type": "code",
   "execution_count": null,
   "id": "023835cb",
   "metadata": {
    "ExecuteTime": {
     "start_time": "2023-04-30T14:18:49.403042Z",
     "end_time": "2023-04-30T14:18:59.847254Z"
    }
   },
   "outputs": [],
   "source": [
    "# preimenovanje stupaca\n",
    "df_list_n = spark.createDataFrame(data)\n",
    "df_list_n.withColumnRenamed('_1', 'neparni') \\\n",
    "         .withColumnRenamed('_2', 'parni') \\\n",
    "         .show()"
   ]
  },
  {
   "cell_type": "markdown",
   "id": "7fca4311",
   "metadata": {},
   "source": [
    "## Spark SQL i Window funkcije\n",
    "\n",
    "Windowing u Sparku omogućuje obradu podataka u prozorima; odnosno, funkcije se mogu primijeniti i na više elemenata, a ne samo na pojedinačni element."
   ]
  },
  {
   "cell_type": "code",
   "execution_count": null,
   "id": "bc2a082d",
   "metadata": {
    "ExecuteTime": {
     "start_time": "2023-04-30T14:18:59.849255Z",
     "end_time": "2023-04-30T14:18:59.865407Z"
    }
   },
   "outputs": [],
   "source": [
    "employee_data = ((\"John\", \"Engineering\", 7000),\n",
    "                 (\"Jane\", \"Marketing\", 5000),\n",
    "                 (\"Bob\", \"Engineering\", 6000),\n",
    "                 (\"Mary\", \"Sales\", 5500),\n",
    "                 (\"Alex\", \"Marketing\", 4500),\n",
    "                 (\"Mike\", \"Engineering\", 7500),\n",
    "                 (\"Julie\", \"Sales\", 6000),\n",
    "                 (\"Sam\", \"Finance\", 6500),\n",
    "                 (\"Lisa\", \"Marketing\", 4500),\n",
    "                 (\"Tom\", \"Engineering\", 8000))\n",
    "\n",
    "columns = [\"name\", \"department\", \"salary\"]\n",
    "\n",
    "df_employees = spark.createDataFrame(employee_data, columns)"
   ]
  },
  {
   "cell_type": "markdown",
   "id": "c8a3c692",
   "metadata": {},
   "source": [
    "### Funkcije rangiranja\n",
    "\n",
    "Funkcija row_number koristi se za dodjelu slijednog broja retka koji počinje od 1 - svaki broj koristi samo jednom neovisno o tome je li došlo do izjenačenja."
   ]
  },
  {
   "cell_type": "code",
   "execution_count": null,
   "id": "e9e86947",
   "metadata": {
    "ExecuteTime": {
     "start_time": "2023-04-30T14:18:59.866410Z",
     "end_time": "2023-04-30T14:19:10.258027Z"
    }
   },
   "outputs": [],
   "source": [
    "from pyspark.sql.window import Window\n",
    "from pyspark.sql.functions import row_number\n",
    "\n",
    "window_order = Window.partitionBy(\"department\").orderBy(\"salary\")\n",
    "\n",
    "df_employees.withColumn(\"row_number\", row_number().over(window_order)).show()"
   ]
  },
  {
   "cell_type": "markdown",
   "id": "220afb75",
   "metadata": {},
   "source": [
    "Funkcije rank i dense_rank dodjeljuju rang rezultatu unutar prozora. Dok rank ostavlja prazna mjesta ako dolazi do izjednačenja, dense_rank preskače praznine."
   ]
  },
  {
   "cell_type": "code",
   "execution_count": null,
   "id": "d4179a8e",
   "metadata": {
    "ExecuteTime": {
     "start_time": "2023-04-30T14:19:10.260027Z",
     "end_time": "2023-04-30T14:19:20.725454Z"
    }
   },
   "outputs": [],
   "source": [
    "from pyspark.sql.functions import rank, dense_rank\n",
    "\n",
    "df_employees.withColumn(\"rank\", rank().over(window_order)) \\\n",
    "            .withColumn(\"dense_rank\", dense_rank().over(window_order)) \\\n",
    "            .show()"
   ]
  },
  {
   "attachments": {},
   "cell_type": "markdown",
   "id": "239217f4",
   "metadata": {},
   "source": [
    "Funkcija percent_rank namijenjena je za izračunavanje percentila za svaki redak unutar prozora."
   ]
  },
  {
   "cell_type": "code",
   "execution_count": null,
   "id": "a75beac2",
   "metadata": {
    "ExecuteTime": {
     "start_time": "2023-04-30T14:19:20.726457Z",
     "end_time": "2023-04-30T14:19:31.153560Z"
    }
   },
   "outputs": [],
   "source": [
    "from pyspark.sql.functions import percent_rank\n",
    "\n",
    "df_employees.withColumn(\"percent_rank\", percent_rank().over(window_order)).show()"
   ]
  },
  {
   "cell_type": "markdown",
   "id": "5c066492",
   "metadata": {},
   "source": [
    "Funkcija prozora ntile koristi se za podjelu rezultata unutar prozora u n jednakih dijelova."
   ]
  },
  {
   "cell_type": "code",
   "execution_count": null,
   "id": "d5fa23c4",
   "metadata": {
    "ExecuteTime": {
     "start_time": "2023-04-30T14:19:31.153560Z",
     "end_time": "2023-04-30T14:19:41.664071Z"
    }
   },
   "outputs": [],
   "source": [
    "from pyspark.sql.functions import ntile\n",
    "\n",
    "df_employees.withColumn(\"ntile\", ntile(2).over(window_order)).show()"
   ]
  },
  {
   "cell_type": "markdown",
   "id": "4aaebdb3",
   "metadata": {},
   "source": [
    "### Analitičke funkcije \n",
    "\n",
    "Funkcija cume_dist koristi se za izračun kumulativne distribucije vrijednosti unutar svakog prozora."
   ]
  },
  {
   "cell_type": "code",
   "execution_count": null,
   "id": "bfd03ad5",
   "metadata": {
    "ExecuteTime": {
     "start_time": "2023-04-30T14:19:41.666071Z",
     "end_time": "2023-04-30T14:19:52.106274Z"
    }
   },
   "outputs": [],
   "source": [
    "from pyspark.sql.functions import cume_dist\n",
    "\n",
    "df_employees.withColumn(\"cume_dist\", cume_dist().over(window_order)).show()"
   ]
  },
  {
   "cell_type": "markdown",
   "id": "8b6ec7e0",
   "metadata": {},
   "source": [
    "Funkcija lag se koristi za dobivanje n-tog prethodnika reda unutar prozora, dok ćete funkciju lead iskoristiti kada želite dobit n-tog sljedbenika reda."
   ]
  },
  {
   "cell_type": "code",
   "execution_count": null,
   "id": "dacbd41f",
   "metadata": {
    "ExecuteTime": {
     "start_time": "2023-04-30T14:19:52.107274Z",
     "end_time": "2023-04-30T14:20:02.595975Z"
    }
   },
   "outputs": [],
   "source": [
    "from pyspark.sql.functions import lag, lead\n",
    "\n",
    "df_employees.withColumn(\"lag\", lag(\"salary\", 1).over(window_order)) \\\n",
    "            .withColumn(\"lead\", lead(\"salary\", 1).over(window_order)) \\\n",
    "            .show()"
   ]
  },
  {
   "cell_type": "markdown",
   "id": "48187f15",
   "metadata": {},
   "source": [
    "### Agregatne funkcije\n",
    "\n"
   ]
  },
  {
   "cell_type": "code",
   "execution_count": null,
   "id": "12766770",
   "metadata": {
    "ExecuteTime": {
     "start_time": "2023-04-30T14:20:02.596978Z",
     "end_time": "2023-04-30T14:20:12.917662Z"
    }
   },
   "outputs": [],
   "source": [
    "from pyspark.sql.functions import avg, sum, min, max\n",
    "\n",
    "window_aggregation  = Window.partitionBy(\"department\")\n",
    "\n",
    "df_employees.withColumn(\"row\", row_number().over(window_order)) \\\n",
    "            .withColumn(\"avg\", avg(col(\"salary\")).over(window_aggregation)) \\\n",
    "            .withColumn(\"sum\", sum(col(\"salary\")).over(window_aggregation)) \\\n",
    "            .withColumn(\"min\", min(col(\"salary\")).over(window_aggregation)) \\\n",
    "            .withColumn(\"max\", max(col(\"salary\")).over(window_aggregation)) \\\n",
    "            .where(col(\"row\") == 1).select(\"department\", \"avg\", \"sum\", \"min\", \"max\") \\\n",
    "            .show()"
   ]
  },
  {
   "attachments": {},
   "cell_type": "markdown",
   "id": "efa89bae",
   "metadata": {},
   "source": [
    "## Čitanje iz datoteke\n",
    "PySpark posjeduje kapacitet otkrivanja scheme - možete uključiti tu opciju postavljajući inferSchema na True. Ovaj opcionalni parametar tjera PySpark da prođe kroz podatke dvaput - prvi put kako bi postavio tip svakog stupca i drugi put da bi učitao podatke. Time učitavanje traje duže, ali nam pomaže izbjeći ručno pisanje scheme. Preuzmite skup podataka sa sljedeće poveznice https://www.kaggle.com/datasets/crawford/80-cereals te ga stavite u mapu u kojoj se nalazi vaša bilježnica."
   ]
  },
  {
   "cell_type": "code",
   "execution_count": null,
   "id": "33415178",
   "metadata": {},
   "outputs": [],
   "source": [
    "# Učitavanje datoteke sa zaglavljem i otkrivanjem scheme\n",
    "df_cereal = spark.read.format('csv').option('header', True).option('inferSchema', True).load('cereal.csv')\n",
    "\n",
    "# Prikaz samo prva tri reda\n",
    "df_cereal.show(3)\n",
    "\n",
    "# Primijetite tipove \n",
    "df_cereal.printSchema()"
   ]
  },
  {
   "cell_type": "markdown",
   "id": "c1a74ecc",
   "metadata": {},
   "source": [
    "## Agregacije nad grupiranim stupcem\n",
    "Ako želite grupirati stupce možete se poslužiti transformacijom `groupby('imestupca')`. Metoda `agg()` (agg iz \"aggregation\") prihvaća jednu ili više agregatnih funkcija iz modula `pyspark.sql.functions`. U primjeru ispod računamo prosječni broj kalorija po tipu žitarica te novi stupac imenujemo metodom `alias('imestupca')` koji bi u protivnom nosio naziv prema funkcijama izvedenim u `agg()` metodi - u konkretnom slučaju \"round(avg(calories), 2)\"."
   ]
  },
  {
   "cell_type": "code",
   "execution_count": null,
   "id": "ec2a8681",
   "metadata": {},
   "outputs": [],
   "source": [
    "from pyspark.sql.functions import round\n",
    "\n",
    "df_cereal.groupBy('type') \\\n",
    "            .agg(round(avg('calories'), 2).alias('avg_calories')) \\\n",
    "            .show()"
   ]
  },
  {
   "cell_type": "markdown",
   "id": "f29bd2cc",
   "metadata": {},
   "source": [
    "## Važno! \n",
    "Prije nastavka rješavanja obavite zadatak iz poglavlja \"*Povezivanje PySparka s Kafkom*\". Obratite pozornost na stupce u datoteci - ako ste čitali cijelu vrijednost cijeli redak će vam biti zapisan pod jedan stupac. Razdvojite datoteku po stupcima prije nastavka - npr. spremanjem datoteke nanovo u CSV formatu.\n",
    "## Dnevni prosjek \n",
    "Vaš zadatak je prikazati kretanje prosječne dnevne cijene kroz proteklih sto dana koristeći DataFrame kao strukturu podataka. Ispišite vaše rješenje na ekran - poredajte elemente silazno po prosječnoj cijeni zaokruženoj na jednu decimalu te im dodijelite rang. Možete koristiti `from_unixtime` iz `pyspark.sql.functions` modula za izvršenje zadatka."
   ]
  },
  {
   "cell_type": "code",
   "execution_count": 11,
   "id": "6501c028",
   "metadata": {
    "ExecuteTime": {
     "start_time": "2023-04-30T16:26:23.729115Z",
     "end_time": "2023-04-30T16:26:23.795317Z"
    }
   },
   "outputs": [],
   "source": [
    "from pyspark.sql.functions import to_date, split, desc, rank, avg, round\n",
    "from pyspark.sql.window import Window\n",
    "\n",
    "kafka_df = (\n",
    "    spark.readStream\n",
    "    .format(\"kafka\")\n",
    "    .option(\"kafka.bootstrap.servers\", \"localhost:9092\")\n",
    "    .option(\"subscribe\", \"BTC\")\n",
    "    .option(\"startingOffsets\", \"earliest\")\n",
    "    .load()\n",
    ")\n",
    "\n",
    "kafka_df = kafka_df.withColumn(\"value\", kafka_df[\"value\"].cast(\"string\"))\n",
    "\n",
    "split_columns = split(kafka_df['value'], ',')\n",
    "kafka_df = kafka_df.withColumn('date', to_date(split_columns.getItem(0)))\n",
    "kafka_df = kafka_df.withColumn('timestamp', split_columns.getItem(1).cast('integer'))\n",
    "kafka_df = kafka_df.withColumn('price', split_columns.getItem(2).cast('decimal(30, 15)'))\n",
    "kafka_df = kafka_df.select(['date', 'price'])\n",
    "\n",
    "kafka_df = (\n",
    "    kafka_df.groupBy('date')\n",
    "    .agg(round(avg('price'), 1).alias('avg_price'))\n",
    "    .orderBy('avg_price', ascending=False)\n",
    ")\n",
    "\n",
    "# kafka_df = kafka_df.withColumn(\"rank\", rank().over(Window.partitionBy('timestamp').orderBy(desc(\"timestamp\"))))"
   ]
  },
  {
   "cell_type": "code",
   "execution_count": 12,
   "outputs": [
    {
     "name": "stdout",
     "output_type": "stream",
     "text": [
      "root\n",
      " |-- date: date (nullable = true)\n",
      " |-- avg_price: decimal(17,1) (nullable = true)\n",
      "\n"
     ]
    }
   ],
   "source": [
    "kafka_df.printSchema()"
   ],
   "metadata": {
    "collapsed": false,
    "ExecuteTime": {
     "start_time": "2023-04-30T16:26:24.768366Z",
     "end_time": "2023-04-30T16:26:24.771793Z"
    }
   }
  },
  {
   "cell_type": "code",
   "execution_count": 13,
   "outputs": [],
   "source": [
    "kafka_query = (\n",
    "    kafka_df.writeStream\n",
    "    .format(\"console\")\n",
    "    # .option(\"path\", \"output/data\")\n",
    "    # .option(\"checkpointLocation\", \"output/checkpoint\")\n",
    "    .outputMode(\"complete\")\n",
    "    .start()\n",
    ")\n",
    "\n",
    "kafka_query.processAllAvailable()"
   ],
   "metadata": {
    "collapsed": false,
    "ExecuteTime": {
     "start_time": "2023-04-30T16:26:39.318865Z",
     "end_time": "2023-04-30T16:30:17.723063Z"
    }
   }
  },
  {
   "cell_type": "markdown",
   "id": "fd2f0999",
   "metadata": {},
   "source": [
    "# Resilient Distributed Dataset (RDD) \n",
    "Postoje dva načina kako kreirati RDD: \n",
    "* paralelizacijom postojeće kolekcije - pozivanjem metode parallelize\n",
    "* referenciranjem skupa podataka u vanjsokom sustavu za pohranu - pozivanjem metode textfile koja kao argument prihvaća put do datoteke\n",
    "\n",
    "\n",
    "RDD se poziva nad SparkContextom koji možete izvući iz SparkSession objekta."
   ]
  },
  {
   "cell_type": "code",
   "execution_count": null,
   "id": "c9e3045b",
   "metadata": {},
   "outputs": [],
   "source": [
    "# SparkContext objekt iz SparkSessiona\n",
    "sc = spark.sparkContext\n",
    "\n",
    "# Paralelizacija postojeće kolekcije\n",
    "rdd_array = sc.parallelize([1, 2, 3])\n",
    "\n",
    "# Učitavanje iz datoteke - zamijenite naziv CSV datoteke sa svojim\n",
    "rdd_csv = sc.textFile(\"coincap.csv\")"
   ]
  },
  {
   "cell_type": "markdown",
   "id": "6c446b93",
   "metadata": {},
   "source": [
    "## Osnovne akcije nad RDD-ovima \n",
    "Metoda `collect()` dohvaća cijeli RDD (primijetite kako je svaki redak pročitan kao jedan element iako sadrži dva podatka). "
   ]
  },
  {
   "cell_type": "code",
   "execution_count": null,
   "id": "42657b34",
   "metadata": {},
   "outputs": [],
   "source": [
    "rdd_csv.collect()"
   ]
  },
  {
   "cell_type": "markdown",
   "id": "c2a844d0",
   "metadata": {},
   "source": [
    "Metoda `count()` pokazuje broj elemenata u RDD-u."
   ]
  },
  {
   "cell_type": "code",
   "execution_count": null,
   "id": "85ee0c61",
   "metadata": {},
   "outputs": [],
   "source": [
    "rdd_csv.count()"
   ]
  },
  {
   "cell_type": "markdown",
   "id": "8519b29d",
   "metadata": {},
   "source": [
    "Kako biste uzeli određeni broj elemenata (po redu) potrebno je pozvati `take(n)` gdje n ukazuje koji je to broj elemenata:"
   ]
  },
  {
   "cell_type": "code",
   "execution_count": null,
   "id": "a8f329b1",
   "metadata": {},
   "outputs": [],
   "source": [
    "rdd_csv.take(2)"
   ]
  },
  {
   "cell_type": "markdown",
   "id": "99354675",
   "metadata": {},
   "source": [
    "## Transformacije nad RDD-ovima\n",
    "\n",
    "Tranformacija filter se koristi kako bi se zadržali elementi koji ispunjavaju određeni uvjet; nad svakim elementom se poziva funkcija te ako je odgovor na tu funkciju True taj element se zadržava."
   ]
  },
  {
   "cell_type": "code",
   "execution_count": null,
   "id": "cb46de90",
   "metadata": {},
   "outputs": [],
   "source": [
    "veci_od_jedan = rdd_array.filter(lambda x: x > 1)\n",
    "veci_od_jedan.collect()"
   ]
  },
  {
   "cell_type": "markdown",
   "id": "d98e91dc",
   "metadata": {},
   "source": [
    "Koristeći map transformaciju možete nad svakim elementom RDD-a izvesti određenu funkciju. Primjerice, ako imate csv datoteku u kojoj imate više stupaca - te elemente možete pročitati pozivajući funkciju koja će razdvojiti vaš redak u elemente po delimiteru u vašoj datoteci.\n",
    "\n",
    "Kao vježbu napišite naredbu s lambda funkcijom koja će vaš rdd_csv razdvojiti po stupcima te prikažite novi RDD na zaslonu."
   ]
  },
  {
   "cell_type": "code",
   "execution_count": 5,
   "id": "ed8a73de",
   "metadata": {
    "ExecuteTime": {
     "start_time": "2023-04-30T18:43:49.078041Z",
     "end_time": "2023-04-30T18:43:50.185504Z"
    }
   },
   "outputs": [
    {
     "data": {
      "text/plain": "[['name',\n  'mfr',\n  'type',\n  'calories',\n  'protein',\n  'fat',\n  'sodium',\n  'fiber',\n  'carbo',\n  'sugars',\n  'potass',\n  'vitamins',\n  'shelf',\n  'weight',\n  'cups',\n  'rating'],\n ['100% Bran',\n  'N',\n  'C',\n  '70',\n  '4',\n  '1',\n  '130',\n  '10',\n  '5',\n  '6',\n  '280',\n  '25',\n  '3',\n  '1',\n  '0.33',\n  '68.402973'],\n ['100% Natural Bran',\n  'Q',\n  'C',\n  '120',\n  '3',\n  '5',\n  '15',\n  '2',\n  '8',\n  '8',\n  '135',\n  '0',\n  '3',\n  '1',\n  '1',\n  '33.983679'],\n ['All-Bran',\n  'K',\n  'C',\n  '70',\n  '4',\n  '1',\n  '260',\n  '9',\n  '7',\n  '5',\n  '320',\n  '25',\n  '3',\n  '1',\n  '0.33',\n  '59.425505'],\n ['All-Bran with Extra Fiber',\n  'K',\n  'C',\n  '50',\n  '4',\n  '0',\n  '140',\n  '14',\n  '8',\n  '0',\n  '330',\n  '25',\n  '3',\n  '1',\n  '0.5',\n  '93.704912'],\n ['Almond Delight',\n  'R',\n  'C',\n  '110',\n  '2',\n  '2',\n  '200',\n  '1',\n  '14',\n  '8',\n  '-1',\n  '25',\n  '3',\n  '1',\n  '0.75',\n  '34.384843'],\n ['Apple Cinnamon Cheerios',\n  'G',\n  'C',\n  '110',\n  '2',\n  '2',\n  '180',\n  '1.5',\n  '10.5',\n  '10',\n  '70',\n  '25',\n  '1',\n  '1',\n  '0.75',\n  '29.509541'],\n ['Apple Jacks',\n  'K',\n  'C',\n  '110',\n  '2',\n  '0',\n  '125',\n  '1',\n  '11',\n  '14',\n  '30',\n  '25',\n  '2',\n  '1',\n  '1',\n  '33.174094'],\n ['Basic 4',\n  'G',\n  'C',\n  '130',\n  '3',\n  '2',\n  '210',\n  '2',\n  '18',\n  '8',\n  '100',\n  '25',\n  '3',\n  '1.33',\n  '0.75',\n  '37.038562'],\n ['Bran Chex',\n  'R',\n  'C',\n  '90',\n  '2',\n  '1',\n  '200',\n  '4',\n  '15',\n  '6',\n  '125',\n  '25',\n  '1',\n  '1',\n  '0.67',\n  '49.120253'],\n ['Bran Flakes',\n  'P',\n  'C',\n  '90',\n  '3',\n  '0',\n  '210',\n  '5',\n  '13',\n  '5',\n  '190',\n  '25',\n  '3',\n  '1',\n  '0.67',\n  '53.313813'],\n [\"Cap'n'Crunch\",\n  'Q',\n  'C',\n  '120',\n  '1',\n  '2',\n  '220',\n  '0',\n  '12',\n  '12',\n  '35',\n  '25',\n  '2',\n  '1',\n  '0.75',\n  '18.042851'],\n ['Cheerios',\n  'G',\n  'C',\n  '110',\n  '6',\n  '2',\n  '290',\n  '2',\n  '17',\n  '1',\n  '105',\n  '25',\n  '1',\n  '1',\n  '1.25',\n  '50.764999'],\n ['Cinnamon Toast Crunch',\n  'G',\n  'C',\n  '120',\n  '1',\n  '3',\n  '210',\n  '0',\n  '13',\n  '9',\n  '45',\n  '25',\n  '2',\n  '1',\n  '0.75',\n  '19.823573'],\n ['Clusters',\n  'G',\n  'C',\n  '110',\n  '3',\n  '2',\n  '140',\n  '2',\n  '13',\n  '7',\n  '105',\n  '25',\n  '3',\n  '1',\n  '0.5',\n  '40.400208'],\n ['Cocoa Puffs',\n  'G',\n  'C',\n  '110',\n  '1',\n  '1',\n  '180',\n  '0',\n  '12',\n  '13',\n  '55',\n  '25',\n  '2',\n  '1',\n  '1',\n  '22.736446'],\n ['Corn Chex',\n  'R',\n  'C',\n  '110',\n  '2',\n  '0',\n  '280',\n  '0',\n  '22',\n  '3',\n  '25',\n  '25',\n  '1',\n  '1',\n  '1',\n  '41.445019'],\n ['Corn Flakes',\n  'K',\n  'C',\n  '100',\n  '2',\n  '0',\n  '290',\n  '1',\n  '21',\n  '2',\n  '35',\n  '25',\n  '1',\n  '1',\n  '1',\n  '45.863324'],\n ['Corn Pops',\n  'K',\n  'C',\n  '110',\n  '1',\n  '0',\n  '90',\n  '1',\n  '13',\n  '12',\n  '20',\n  '25',\n  '2',\n  '1',\n  '1',\n  '35.782791'],\n ['Count Chocula',\n  'G',\n  'C',\n  '110',\n  '1',\n  '1',\n  '180',\n  '0',\n  '12',\n  '13',\n  '65',\n  '25',\n  '2',\n  '1',\n  '1',\n  '22.396513'],\n [\"Cracklin' Oat Bran\",\n  'K',\n  'C',\n  '110',\n  '3',\n  '3',\n  '140',\n  '4',\n  '10',\n  '7',\n  '160',\n  '25',\n  '3',\n  '1',\n  '0.5',\n  '40.448772'],\n ['Cream of Wheat (Quick)',\n  'N',\n  'H',\n  '100',\n  '3',\n  '0',\n  '80',\n  '1',\n  '21',\n  '0',\n  '-1',\n  '0',\n  '2',\n  '1',\n  '1',\n  '64.533816'],\n ['Crispix',\n  'K',\n  'C',\n  '110',\n  '2',\n  '0',\n  '220',\n  '1',\n  '21',\n  '3',\n  '30',\n  '25',\n  '3',\n  '1',\n  '1',\n  '46.895644'],\n ['Crispy Wheat & Raisins',\n  'G',\n  'C',\n  '100',\n  '2',\n  '1',\n  '140',\n  '2',\n  '11',\n  '10',\n  '120',\n  '25',\n  '3',\n  '1',\n  '0.75',\n  '36.176196'],\n ['Double Chex',\n  'R',\n  'C',\n  '100',\n  '2',\n  '0',\n  '190',\n  '1',\n  '18',\n  '5',\n  '80',\n  '25',\n  '3',\n  '1',\n  '0.75',\n  '44.330856'],\n ['Froot Loops',\n  'K',\n  'C',\n  '110',\n  '2',\n  '1',\n  '125',\n  '1',\n  '11',\n  '13',\n  '30',\n  '25',\n  '2',\n  '1',\n  '1',\n  '32.207582'],\n ['Frosted Flakes',\n  'K',\n  'C',\n  '110',\n  '1',\n  '0',\n  '200',\n  '1',\n  '14',\n  '11',\n  '25',\n  '25',\n  '1',\n  '1',\n  '0.75',\n  '31.435973'],\n ['Frosted Mini-Wheats',\n  'K',\n  'C',\n  '100',\n  '3',\n  '0',\n  '0',\n  '3',\n  '14',\n  '7',\n  '100',\n  '25',\n  '2',\n  '1',\n  '0.8',\n  '58.345141'],\n ['Fruit & Fibre Dates; Walnuts; and Oats',\n  'P',\n  'C',\n  '120',\n  '3',\n  '2',\n  '160',\n  '5',\n  '12',\n  '10',\n  '200',\n  '25',\n  '3',\n  '1.25',\n  '0.67',\n  '40.917047'],\n ['Fruitful Bran',\n  'K',\n  'C',\n  '120',\n  '3',\n  '0',\n  '240',\n  '5',\n  '14',\n  '12',\n  '190',\n  '25',\n  '3',\n  '1.33',\n  '0.67',\n  '41.015492'],\n ['Fruity Pebbles',\n  'P',\n  'C',\n  '110',\n  '1',\n  '1',\n  '135',\n  '0',\n  '13',\n  '12',\n  '25',\n  '25',\n  '2',\n  '1',\n  '0.75',\n  '28.025765'],\n ['Golden Crisp',\n  'P',\n  'C',\n  '100',\n  '2',\n  '0',\n  '45',\n  '0',\n  '11',\n  '15',\n  '40',\n  '25',\n  '1',\n  '1',\n  '0.88',\n  '35.252444'],\n ['Golden Grahams',\n  'G',\n  'C',\n  '110',\n  '1',\n  '1',\n  '280',\n  '0',\n  '15',\n  '9',\n  '45',\n  '25',\n  '2',\n  '1',\n  '0.75',\n  '23.804043'],\n ['Grape Nuts Flakes',\n  'P',\n  'C',\n  '100',\n  '3',\n  '1',\n  '140',\n  '3',\n  '15',\n  '5',\n  '85',\n  '25',\n  '3',\n  '1',\n  '0.88',\n  '52.076897'],\n ['Grape-Nuts',\n  'P',\n  'C',\n  '110',\n  '3',\n  '0',\n  '170',\n  '3',\n  '17',\n  '3',\n  '90',\n  '25',\n  '3',\n  '1',\n  '0.25',\n  '53.371007'],\n ['Great Grains Pecan',\n  'P',\n  'C',\n  '120',\n  '3',\n  '3',\n  '75',\n  '3',\n  '13',\n  '4',\n  '100',\n  '25',\n  '3',\n  '1',\n  '0.33',\n  '45.811716'],\n ['Honey Graham Ohs',\n  'Q',\n  'C',\n  '120',\n  '1',\n  '2',\n  '220',\n  '1',\n  '12',\n  '11',\n  '45',\n  '25',\n  '2',\n  '1',\n  '1',\n  '21.871292'],\n ['Honey Nut Cheerios',\n  'G',\n  'C',\n  '110',\n  '3',\n  '1',\n  '250',\n  '1.5',\n  '11.5',\n  '10',\n  '90',\n  '25',\n  '1',\n  '1',\n  '0.75',\n  '31.072217'],\n ['Honey-comb',\n  'P',\n  'C',\n  '110',\n  '1',\n  '0',\n  '180',\n  '0',\n  '14',\n  '11',\n  '35',\n  '25',\n  '1',\n  '1',\n  '1.33',\n  '28.742414'],\n ['Just Right Crunchy  Nuggets',\n  'K',\n  'C',\n  '110',\n  '2',\n  '1',\n  '170',\n  '1',\n  '17',\n  '6',\n  '60',\n  '100',\n  '3',\n  '1',\n  '1',\n  '36.523683'],\n ['Just Right Fruit & Nut',\n  'K',\n  'C',\n  '140',\n  '3',\n  '1',\n  '170',\n  '2',\n  '20',\n  '9',\n  '95',\n  '100',\n  '3',\n  '1.3',\n  '0.75',\n  '36.471512'],\n ['Kix',\n  'G',\n  'C',\n  '110',\n  '2',\n  '1',\n  '260',\n  '0',\n  '21',\n  '3',\n  '40',\n  '25',\n  '2',\n  '1',\n  '1.5',\n  '39.241114'],\n ['Life',\n  'Q',\n  'C',\n  '100',\n  '4',\n  '2',\n  '150',\n  '2',\n  '12',\n  '6',\n  '95',\n  '25',\n  '2',\n  '1',\n  '0.67',\n  '45.328074'],\n ['Lucky Charms',\n  'G',\n  'C',\n  '110',\n  '2',\n  '1',\n  '180',\n  '0',\n  '12',\n  '12',\n  '55',\n  '25',\n  '2',\n  '1',\n  '1',\n  '26.734515'],\n ['Maypo',\n  'A',\n  'H',\n  '100',\n  '4',\n  '1',\n  '0',\n  '0',\n  '16',\n  '3',\n  '95',\n  '25',\n  '2',\n  '1',\n  '1',\n  '54.850917'],\n ['Muesli Raisins; Dates; & Almonds',\n  'R',\n  'C',\n  '150',\n  '4',\n  '3',\n  '95',\n  '3',\n  '16',\n  '11',\n  '170',\n  '25',\n  '3',\n  '1',\n  '1',\n  '37.136863'],\n ['Muesli Raisins; Peaches; & Pecans',\n  'R',\n  'C',\n  '150',\n  '4',\n  '3',\n  '150',\n  '3',\n  '16',\n  '11',\n  '170',\n  '25',\n  '3',\n  '1',\n  '1',\n  '34.139765'],\n ['Mueslix Crispy Blend',\n  'K',\n  'C',\n  '160',\n  '3',\n  '2',\n  '150',\n  '3',\n  '17',\n  '13',\n  '160',\n  '25',\n  '3',\n  '1.5',\n  '0.67',\n  '30.313351'],\n ['Multi-Grain Cheerios',\n  'G',\n  'C',\n  '100',\n  '2',\n  '1',\n  '220',\n  '2',\n  '15',\n  '6',\n  '90',\n  '25',\n  '1',\n  '1',\n  '1',\n  '40.105965'],\n ['Nut&Honey Crunch',\n  'K',\n  'C',\n  '120',\n  '2',\n  '1',\n  '190',\n  '0',\n  '15',\n  '9',\n  '40',\n  '25',\n  '2',\n  '1',\n  '0.67',\n  '29.924285'],\n ['Nutri-Grain Almond-Raisin',\n  'K',\n  'C',\n  '140',\n  '3',\n  '2',\n  '220',\n  '3',\n  '21',\n  '7',\n  '130',\n  '25',\n  '3',\n  '1.33',\n  '0.67',\n  '40.692320'],\n ['Nutri-grain Wheat',\n  'K',\n  'C',\n  '90',\n  '3',\n  '0',\n  '170',\n  '3',\n  '18',\n  '2',\n  '90',\n  '25',\n  '3',\n  '1',\n  '1',\n  '59.642837'],\n ['Oatmeal Raisin Crisp',\n  'G',\n  'C',\n  '130',\n  '3',\n  '2',\n  '170',\n  '1.5',\n  '13.5',\n  '10',\n  '120',\n  '25',\n  '3',\n  '1.25',\n  '0.5',\n  '30.450843'],\n ['Post Nat. Raisin Bran',\n  'P',\n  'C',\n  '120',\n  '3',\n  '1',\n  '200',\n  '6',\n  '11',\n  '14',\n  '260',\n  '25',\n  '3',\n  '1.33',\n  '0.67',\n  '37.840594'],\n ['Product 19',\n  'K',\n  'C',\n  '100',\n  '3',\n  '0',\n  '320',\n  '1',\n  '20',\n  '3',\n  '45',\n  '100',\n  '3',\n  '1',\n  '1',\n  '41.503540'],\n ['Puffed Rice',\n  'Q',\n  'C',\n  '50',\n  '1',\n  '0',\n  '0',\n  '0',\n  '13',\n  '0',\n  '15',\n  '0',\n  '3',\n  '0.5',\n  '1',\n  '60.756112'],\n ['Puffed Wheat',\n  'Q',\n  'C',\n  '50',\n  '2',\n  '0',\n  '0',\n  '1',\n  '10',\n  '0',\n  '50',\n  '0',\n  '3',\n  '0.5',\n  '1',\n  '63.005645'],\n ['Quaker Oat Squares',\n  'Q',\n  'C',\n  '100',\n  '4',\n  '1',\n  '135',\n  '2',\n  '14',\n  '6',\n  '110',\n  '25',\n  '3',\n  '1',\n  '0.5',\n  '49.511874'],\n ['Quaker Oatmeal',\n  'Q',\n  'H',\n  '100',\n  '5',\n  '2',\n  '0',\n  '2.7',\n  '-1',\n  '-1',\n  '110',\n  '0',\n  '1',\n  '1',\n  '0.67',\n  '50.828392'],\n ['Raisin Bran',\n  'K',\n  'C',\n  '120',\n  '3',\n  '1',\n  '210',\n  '5',\n  '14',\n  '12',\n  '240',\n  '25',\n  '2',\n  '1.33',\n  '0.75',\n  '39.259197'],\n ['Raisin Nut Bran',\n  'G',\n  'C',\n  '100',\n  '3',\n  '2',\n  '140',\n  '2.5',\n  '10.5',\n  '8',\n  '140',\n  '25',\n  '3',\n  '1',\n  '0.5',\n  '39.703400'],\n ['Raisin Squares',\n  'K',\n  'C',\n  '90',\n  '2',\n  '0',\n  '0',\n  '2',\n  '15',\n  '6',\n  '110',\n  '25',\n  '3',\n  '1',\n  '0.5',\n  '55.333142'],\n ['Rice Chex',\n  'R',\n  'C',\n  '110',\n  '1',\n  '0',\n  '240',\n  '0',\n  '23',\n  '2',\n  '30',\n  '25',\n  '1',\n  '1',\n  '1.13',\n  '41.998933'],\n ['Rice Krispies',\n  'K',\n  'C',\n  '110',\n  '2',\n  '0',\n  '290',\n  '0',\n  '22',\n  '3',\n  '35',\n  '25',\n  '1',\n  '1',\n  '1',\n  '40.560159'],\n ['Shredded Wheat',\n  'N',\n  'C',\n  '80',\n  '2',\n  '0',\n  '0',\n  '3',\n  '16',\n  '0',\n  '95',\n  '0',\n  '1',\n  '0.83',\n  '1',\n  '68.235885'],\n [\"Shredded Wheat 'n'Bran\",\n  'N',\n  'C',\n  '90',\n  '3',\n  '0',\n  '0',\n  '4',\n  '19',\n  '0',\n  '140',\n  '0',\n  '1',\n  '1',\n  '0.67',\n  '74.472949'],\n ['Shredded Wheat spoon size',\n  'N',\n  'C',\n  '90',\n  '3',\n  '0',\n  '0',\n  '3',\n  '20',\n  '0',\n  '120',\n  '0',\n  '1',\n  '1',\n  '0.67',\n  '72.801787'],\n ['Smacks',\n  'K',\n  'C',\n  '110',\n  '2',\n  '1',\n  '70',\n  '1',\n  '9',\n  '15',\n  '40',\n  '25',\n  '2',\n  '1',\n  '0.75',\n  '31.230054'],\n ['Special K',\n  'K',\n  'C',\n  '110',\n  '6',\n  '0',\n  '230',\n  '1',\n  '16',\n  '3',\n  '55',\n  '25',\n  '1',\n  '1',\n  '1',\n  '53.131324'],\n ['Strawberry Fruit Wheats',\n  'N',\n  'C',\n  '90',\n  '2',\n  '0',\n  '15',\n  '3',\n  '15',\n  '5',\n  '90',\n  '25',\n  '2',\n  '1',\n  '1',\n  '59.363993'],\n ['Total Corn Flakes',\n  'G',\n  'C',\n  '110',\n  '2',\n  '1',\n  '200',\n  '0',\n  '21',\n  '3',\n  '35',\n  '100',\n  '3',\n  '1',\n  '1',\n  '38.839746'],\n ['Total Raisin Bran',\n  'G',\n  'C',\n  '140',\n  '3',\n  '1',\n  '190',\n  '4',\n  '15',\n  '14',\n  '230',\n  '100',\n  '3',\n  '1.5',\n  '1',\n  '28.592785'],\n ['Total Whole Grain',\n  'G',\n  'C',\n  '100',\n  '3',\n  '1',\n  '200',\n  '3',\n  '16',\n  '3',\n  '110',\n  '100',\n  '3',\n  '1',\n  '1',\n  '46.658844'],\n ['Triples',\n  'G',\n  'C',\n  '110',\n  '2',\n  '1',\n  '250',\n  '0',\n  '21',\n  '3',\n  '60',\n  '25',\n  '3',\n  '1',\n  '0.75',\n  '39.106174'],\n ['Trix',\n  'G',\n  'C',\n  '110',\n  '1',\n  '1',\n  '140',\n  '0',\n  '13',\n  '12',\n  '25',\n  '25',\n  '2',\n  '1',\n  '1',\n  '27.753301'],\n ['Wheat Chex',\n  'R',\n  'C',\n  '100',\n  '3',\n  '1',\n  '230',\n  '3',\n  '17',\n  '3',\n  '115',\n  '25',\n  '1',\n  '1',\n  '0.67',\n  '49.787445'],\n ['Wheaties',\n  'G',\n  'C',\n  '100',\n  '3',\n  '1',\n  '200',\n  '3',\n  '17',\n  '3',\n  '110',\n  '25',\n  '1',\n  '1',\n  '1',\n  '51.592193'],\n ['Wheaties Honey Gold',\n  'G',\n  'C',\n  '110',\n  '2',\n  '1',\n  '200',\n  '1',\n  '16',\n  '8',\n  '60',\n  '25',\n  '1',\n  '1',\n  '0.75',\n  '36.187559']]"
     },
     "execution_count": 5,
     "metadata": {},
     "output_type": "execute_result"
    }
   ],
   "source": [
    "sc = spark.sparkContext\n",
    "\n",
    "cereal_rdd = sc.textFile('cereal.csv')\\\n",
    "    .map(lambda x: x.split(','))\n",
    "\n",
    "cereal_rdd.collect()"
   ]
  },
  {
   "cell_type": "markdown",
   "id": "5c4d7190",
   "metadata": {},
   "source": [
    "Transformacija reduce primjenjuje danu funkciju na dva parametra istog tipa te vraća jedan rezultat. Ta funkcija se primjenjuje elementima u strukturi sličnoj stablu, gdje se na svakoj razini broj elemenata prepolavlja sve dok se ne dođe do jednog elementa."
   ]
  },
  {
   "cell_type": "code",
   "execution_count": null,
   "id": "f5ae80a2",
   "metadata": {},
   "outputs": [],
   "source": [
    "sum = rdd_array.reduce(lambda x, y: x + y)\n",
    "print(sum)"
   ]
  },
  {
   "cell_type": "markdown",
   "id": "9ba2aa3e",
   "metadata": {},
   "source": [
    "Transformacija groupByKey grupira zapise prema ključu i vraća RDD gdje svaki zapis ima ključ i listu vrijednosti povezanih s tim ključem."
   ]
  },
  {
   "cell_type": "code",
   "execution_count": null,
   "id": "76582e9f",
   "metadata": {},
   "outputs": [],
   "source": [
    "rdd_employees = sc.parallelize([(\"Engineering\", \"Mike\"), (\"Engineering\", \"Tom\"), (\"Marketing\", \"Lisa\")])\n",
    "\n",
    "for key, values in rdd_employees.groupByKey().collect():\n",
    "    print(f\"{key}: {list(values)}\")"
   ]
  },
  {
   "cell_type": "markdown",
   "id": "46aa7029",
   "metadata": {},
   "source": [
    "## Najviše dnevne cijene\n",
    "\n",
    "Vaš zadatak je pronaći najveći dnevni maksimum kroz protekla dva tjedna koristeći RDD kao strukturu podataka. Pripazite na tipove učitanih podataka. Ovisno o kodu koji unesete možete nepovratno \"pokvariti\" kernel kada računate s RDD-om u Jupyteru pa ga stoga iznova pokrenite s vremena na vrijeme."
   ]
  },
  {
   "cell_type": "code",
   "execution_count": 8,
   "id": "13e335c3",
   "metadata": {
    "ExecuteTime": {
     "start_time": "2023-04-30T18:57:07.486231Z",
     "end_time": "2023-04-30T18:57:09.629400Z"
    }
   },
   "outputs": [
    {
     "data": {
      "text/plain": "[(datetime.datetime(2023, 4, 17, 0, 0), Decimal('30361.310477781287508')),\n (datetime.datetime(2023, 4, 20, 0, 0), Decimal('28993.516167577716877')),\n (datetime.datetime(2023, 4, 21, 0, 0), Decimal('28363.641508847066238')),\n (datetime.datetime(2023, 4, 22, 0, 0), Decimal('27979.228066477305455')),\n (datetime.datetime(2023, 4, 25, 0, 0), Decimal('28313.967171490043940')),\n (datetime.datetime(2023, 4, 27, 0, 0), Decimal('29805.672889383884658')),\n (datetime.datetime(2023, 4, 28, 0, 0), Decimal('29557.199025097977494')),\n (datetime.datetime(2023, 4, 18, 0, 0), Decimal('30412.312209607134311')),\n (datetime.datetime(2023, 4, 19, 0, 0), Decimal('30405.896696393288237')),\n (datetime.datetime(2023, 4, 23, 0, 0), Decimal('27947.727003361786518')),\n (datetime.datetime(2023, 4, 24, 0, 0), Decimal('27858.053217704780079')),\n (datetime.datetime(2023, 4, 26, 0, 0), Decimal('29964.030845553844425')),\n (datetime.datetime(2023, 4, 29, 0, 0), Decimal('29488.927214196094023'))]"
     },
     "execution_count": 8,
     "metadata": {},
     "output_type": "execute_result"
    }
   ],
   "source": [
    "from datetime import datetime, timedelta\n",
    "from decimal import Decimal\n",
    "\n",
    "coin_rdd = (\n",
    "    sc.textFile('coin_data.csv')\n",
    "    .map(lambda x: x.split(','))\n",
    "    .map(lambda x: (datetime.strptime(x[0], \"%Y-%m-%d\"), Decimal(x[1])))\n",
    "    .filter(lambda x: x[0] > datetime.now() - timedelta(days=14))\n",
    "    .reduceByKey(lambda x, y: max(x, y))\n",
    ")\n",
    "\n",
    "coin_rdd.collect()"
   ]
  },
  {
   "cell_type": "code",
   "execution_count": null,
   "outputs": [],
   "source": [],
   "metadata": {
    "collapsed": false
   }
  }
 ],
 "metadata": {
  "kernelspec": {
   "display_name": "Python 3 (ipykernel)",
   "language": "python",
   "name": "python3"
  },
  "language_info": {
   "codemirror_mode": {
    "name": "ipython",
    "version": 3
   },
   "file_extension": ".py",
   "mimetype": "text/x-python",
   "name": "python",
   "nbconvert_exporter": "python",
   "pygments_lexer": "ipython3",
   "version": "3.9.16"
  }
 },
 "nbformat": 4,
 "nbformat_minor": 5
}
